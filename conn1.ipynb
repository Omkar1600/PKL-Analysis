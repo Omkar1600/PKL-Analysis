{
 "cells": [
  {
   "cell_type": "code",
   "execution_count": 1,
   "metadata": {},
   "outputs": [],
   "source": [
    "import mysql.connector\n",
    "import pandas as pd\n",
    "from mysql.connector import Error"
   ]
  },
  {
   "cell_type": "code",
   "execution_count": 2,
   "metadata": {},
   "outputs": [
    {
     "name": "stdout",
     "output_type": "stream",
     "text": [
      "MySQL Database connection successful\n"
     ]
    }
   ],
   "source": [
    "def create_db_connection(u_name,password, db_name):\n",
    "    connection = None\n",
    "    try:\n",
    "        connection = mysql.connector.connect(\n",
    "            user=u_name,\n",
    "            passwd=password,\n",
    "            database=db_name\n",
    "        )\n",
    "        print(\"MySQL Database connection successful\")\n",
    "    except Error as err:\n",
    "        print(f\"Error: '{err}'\")\n",
    "\n",
    "    return connection\n",
    "\n",
    "cnx=create_db_connection('root','pass','pro_kabbadi')"
   ]
  },
  {
   "cell_type": "code",
   "execution_count": 3,
   "metadata": {},
   "outputs": [],
   "source": [
    "def execute_query(connection, query):\n",
    "    cursor = connection.cursor()\n",
    "    try:\n",
    "        cursor.execute(query)\n",
    "        connection.commit()\n",
    "        print(\"Query successful\")\n",
    "    except Error as err:\n",
    "        print(f\"Error: '{err}'\")"
   ]
  },
  {
   "cell_type": "code",
   "execution_count": 4,
   "metadata": {},
   "outputs": [
    {
     "name": "stdout",
     "output_type": "stream",
     "text": [
      "<class 'pandas.core.frame.DataFrame'>\n",
      "RangeIndex: 8 entries, 0 to 7\n",
      "Data columns (total 8 columns):\n",
      " #   Column          Non-Null Count  Dtype \n",
      "---  ------          --------------  ----- \n",
      " 0   rank            8 non-null      int64 \n",
      " 1   Team_Names      8 non-null      object\n",
      " 2   Matches_Played  8 non-null      int64 \n",
      " 3   Wins            8 non-null      int64 \n",
      " 4   Losses          8 non-null      int64 \n",
      " 5   Ties            8 non-null      int64 \n",
      " 6   Score_Diff      8 non-null      int64 \n",
      " 7   Points          8 non-null      int64 \n",
      "dtypes: int64(7), object(1)\n",
      "memory usage: 640.0+ bytes\n"
     ]
    }
   ],
   "source": [
    "df=pd.read_csv(\"Season2.csv\")\n",
    "df.info()"
   ]
  },
  {
   "cell_type": "code",
   "execution_count": 5,
   "metadata": {},
   "outputs": [],
   "source": [
    "table_data='''CREATE TABLE SEASON2 (\n",
    "rank1 INT,\n",
    "teamname VARCHAR(20),\n",
    "Matches INT,\n",
    "Wins INT,\n",
    "Losses INT,\n",
    "Ties INT,\n",
    "Score_diff INT,\n",
    "points INT\n",
    "); '''"
   ]
  },
  {
   "cell_type": "code",
   "execution_count": 6,
   "metadata": {},
   "outputs": [
    {
     "name": "stdout",
     "output_type": "stream",
     "text": [
      "Query successful\n"
     ]
    }
   ],
   "source": [
    "execute_query(cnx,table_data)"
   ]
  },
  {
   "cell_type": "code",
   "execution_count": 7,
   "metadata": {},
   "outputs": [],
   "source": [
    "insert_data=''' INSERT INTO season2(rank1,teamname,Matches,Wins,Losses,Ties,Score_diff,points)\n",
    "VALUES(%s,%s,%s,%s,%s,%s,%s,%s)'''"
   ]
  },
  {
   "cell_type": "code",
   "execution_count": 8,
   "metadata": {},
   "outputs": [],
   "source": [
    "conec=cnx.cursor()\n",
    "for i,row in df.iterrows():\n",
    "    conec.execute(insert_data,list(row))\n",
    "\n",
    "cnx.commit()\n",
    "    "
   ]
  },
  {
   "cell_type": "code",
   "execution_count": 14,
   "metadata": {},
   "outputs": [
    {
     "name": "stdout",
     "output_type": "stream",
     "text": [
      "Query successful\n",
      "Query successful\n",
      "Query successful\n",
      "Query successful\n",
      "Query successful\n",
      "Query successful\n",
      "Query successful\n"
     ]
    }
   ],
   "source": [
    "for i in range(3,10):\n",
    "    df=pd.read_csv(\"Season{}.csv\".format(i))\n",
    "    table_data='''CREATE TABLE SEASON{} (\n",
    "    rank1 INT,\n",
    "    teamname VARCHAR(20),\n",
    "    Matches INT,\n",
    "    Wins INT,\n",
    "    Losses INT,\n",
    "    Ties INT,\n",
    "    Score_diff INT,\n",
    "    points INT\n",
    "    ); '''.format(i)\n",
    "    \n",
    "    execute_query(cnx,table_data)\n",
    "    insert_data=''' INSERT INTO season{}(rank1,teamname,Matches,Wins,Losses,Ties,Score_diff,points)\n",
    "    VALUES(%s,%s,%s,%s,%s,%s,%s,%s)'''.format(i)\n",
    "    \n",
    "    conec=cnx.cursor()\n",
    "    for i,row in df.iterrows():\n",
    "        conec.execute(insert_data,list(row))\n",
    "\n",
    "    cnx.commit()"
   ]
  },
  {
   "cell_type": "code",
   "execution_count": 15,
   "metadata": {},
   "outputs": [],
   "source": [
    "cnx.close()"
   ]
  },
  {
   "cell_type": "code",
   "execution_count": null,
   "metadata": {},
   "outputs": [],
   "source": []
  }
 ],
 "metadata": {
  "kernelspec": {
   "display_name": "Python 3",
   "language": "python",
   "name": "python3"
  },
  "language_info": {
   "codemirror_mode": {
    "name": "ipython",
    "version": 3
   },
   "file_extension": ".py",
   "mimetype": "text/x-python",
   "name": "python",
   "nbconvert_exporter": "python",
   "pygments_lexer": "ipython3",
   "version": "3.10.2"
  },
  "orig_nbformat": 4
 },
 "nbformat": 4,
 "nbformat_minor": 2
}
