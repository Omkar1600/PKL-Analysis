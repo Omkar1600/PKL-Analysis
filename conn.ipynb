{
 "cells": [
  {
   "cell_type": "code",
   "execution_count": 1,
   "metadata": {},
   "outputs": [],
   "source": [
    "import mysql.connector\n",
    "import pandas as pd\n",
    "from mysql.connector import Error"
   ]
  },
  {
   "cell_type": "code",
   "execution_count": 2,
   "metadata": {},
   "outputs": [],
   "source": [
    "cnx = mysql.connector.connect(user='root', password='Omkar@1600',\n",
    "                              host='127.0.0.1'\n",
    "                              )\n",
    "cur= cnx.cursor()\n",
    "cur.execute(\"Create Database PRO_KABBADI\")\n",
    "cnx.close()"
   ]
  },
  {
   "cell_type": "code",
   "execution_count": 3,
   "metadata": {},
   "outputs": [
    {
     "name": "stdout",
     "output_type": "stream",
     "text": [
      "MySQL Database connection successful\n"
     ]
    }
   ],
   "source": [
    "def create_db_connection(u_name,password, db_name):\n",
    "    connection = None\n",
    "    try:\n",
    "        connection = mysql.connector.connect(\n",
    "            user=u_name,\n",
    "            passwd=password,\n",
    "            database=db_name\n",
    "        )\n",
    "        print(\"MySQL Database connection successful\")\n",
    "    except Error as err:\n",
    "        print(f\"Error: '{err}'\")\n",
    "\n",
    "    return connection\n",
    "\n",
    "cnx=create_db_connection('root','Omkar@1600','pro_kabbadi')"
   ]
  },
  {
   "cell_type": "code",
   "execution_count": 4,
   "metadata": {},
   "outputs": [],
   "source": [
    "def execute_query(connection, query):\n",
    "    cursor = connection.cursor()\n",
    "    try:\n",
    "        cursor.execute(query)\n",
    "        connection.commit()\n",
    "        print(\"Query successful\")\n",
    "    except Error as err:\n",
    "        print(f\"Error: '{err}'\")"
   ]
  },
  {
   "cell_type": "code",
   "execution_count": 5,
   "metadata": {},
   "outputs": [
    {
     "name": "stdout",
     "output_type": "stream",
     "text": [
      "<class 'pandas.core.frame.DataFrame'>\n",
      "RangeIndex: 560 entries, 0 to 559\n",
      "Data columns (total 38 columns):\n",
      " #   Column                        Non-Null Count  Dtype  \n",
      "---  ------                        --------------  -----  \n",
      " 0   name                          560 non-null    object \n",
      " 1   team_name                     560 non-null    object \n",
      " 2   high_5s                       560 non-null    int64  \n",
      " 3   player_team                   560 non-null    int64  \n",
      " 4   super_10s                     560 non-null    int64  \n",
      " 5   super_raids                   560 non-null    int64  \n",
      " 6   super_tackles                 560 non-null    int64  \n",
      " 7   total_defending_points        560 non-null    int64  \n",
      " 8   total_raid_points             560 non-null    int64  \n",
      " 9   red_cards                     560 non-null    int64  \n",
      " 10  raid_bonus_points             560 non-null    int64  \n",
      " 11  success_tackles               560 non-null    int64  \n",
      " 12  defence_touch_points          560 non-null    int64  \n",
      " 13  defending_bonus_points        560 non-null    int64  \n",
      " 14  raid_touch_points             560 non-null    int64  \n",
      " 15  unsuccesful_tackles           560 non-null    int64  \n",
      " 16  success_raid_percent          560 non-null    int64  \n",
      " 17  empty_raid                    560 non-null    int64  \n",
      " 18  tackle_success_rate           560 non-null    float64\n",
      " 19  raids                         560 non-null    int64  \n",
      " 20  match_player                  560 non-null    int64  \n",
      " 21  tackles                       560 non-null    int64  \n",
      " 22  points                        560 non-null    int64  \n",
      " 23  raid_points_per_match         550 non-null    float64\n",
      " 24  not_out_percentage            560 non-null    float64\n",
      " 25  success_tackles_per_match     550 non-null    float64\n",
      " 26  career_best_points            560 non-null    int64  \n",
      " 27  raid_map_locations            0 non-null      float64\n",
      " 28  location                      0 non-null      float64\n",
      " 29  tackle_bonus_points           560 non-null    int64  \n",
      " 30  role                          0 non-null      float64\n",
      " 31  unsuccess_raids               560 non-null    int64  \n",
      " 32  success_raids                 560 non-null    int64  \n",
      " 33  total_tackle_points           560 non-null    int64  \n",
      " 34  yellow_cards                  560 non-null    int64  \n",
      " 35  green_cards                   560 non-null    int64  \n",
      " 36  points_per_match_raid_tackle  550 non-null    float64\n",
      " 37  points_defence_offence        560 non-null    int64  \n",
      "dtypes: float64(8), int64(28), object(2)\n",
      "memory usage: 166.4+ KB\n"
     ]
    }
   ],
   "source": [
    "df=pd.read_csv(\"Trailf.csv\")\n",
    "df.info()"
   ]
  },
  {
   "cell_type": "code",
   "execution_count": 10,
   "metadata": {},
   "outputs": [],
   "source": [
    "table_data='''CREATE TABLE INFO (\n",
    "name VARCHAR(20),\n",
    "team_name VARCHAR(20),\n",
    "high_5s INT,\n",
    "player_team INT,\n",
    "super_10s INT,\n",
    "super_raids INT,\n",
    "super_tackles INT,\n",
    "total_defending_points INT,\n",
    "total_raid_points INT,\n",
    "red_cards INT,\n",
    "raid_bonus_points INT,\n",
    "success_tackles INT,\n",
    "defence_touch_points INT,\n",
    "defending_bonus_points INT,\n",
    "raid_touch_points INT,\n",
    "unsuccesful_tackles INT,\n",
    "success_raid_percent INT,\n",
    "empty_raid INT,\n",
    "tackle_success_rate INT,\n",
    "raids INT,\n",
    "match_player INT,\n",
    "tackles INT,\n",
    "points INT,\n",
    "raid_points_per_match INT,\n",
    "not_out_percentage INT,\n",
    "success_tackles_per_match INT,\n",
    "career_best_points INT,\n",
    "raid_map_locations INT,\n",
    "location INT,\n",
    "tackle_bonus_points INT,\n",
    "role INT,\n",
    "unsuccess_raids INT,\n",
    "success_raids INT,\n",
    "total_tackle_points INT,\n",
    "yellow_cards INT,\n",
    "green_cards INT,\n",
    "points_per_match_raid_tackle INT,\n",
    "points_defence_offence INT\n",
    "); '''"
   ]
  },
  {
   "cell_type": "code",
   "execution_count": 11,
   "metadata": {},
   "outputs": [
    {
     "name": "stdout",
     "output_type": "stream",
     "text": [
      "Query successful\n"
     ]
    }
   ],
   "source": [
    "execute_query(cnx,table_data)"
   ]
  },
  {
   "cell_type": "code",
   "execution_count": 21,
   "metadata": {},
   "outputs": [],
   "source": [
    "insert_table_data=''' INSERT INTO info(name,team_name,high_5s,player_team,super_10s,super_raids,super_tackles,total_defending_points,total_raid_points,red_cards,raid_bonus_points,success_tackles,defence_touch_points,defending_bonus_points,raid_touch_points,unsuccesful_tackles,success_raid_percent,empty_raid,tackle_success_rate,raids,match_player,tackles,points,raid_points_per_match,not_out_percentage,success_tackles_per_match,career_best_points,raid_map_locations,location,tackle_bonus_points,role,unsuccess_raids,success_raids,total_tackle_points,yellow_cards,green_cards,points_per_match_raid_tackle,points_defence_offence)\n",
    "VALUES(%s,%s,%s,%s,%s,%s,%s,%s,%s,%s,%s,%s,%s,%s,%s,%s,%s,%s,%s,%s,%s,%s,%s,%s,%s,%s,%s,%s,%s,%s,%s,%s,%s,%s,%s,%s,%s,%s)\n",
    "'''"
   ]
  },
  {
   "cell_type": "code",
   "execution_count": 22,
   "metadata": {},
   "outputs": [
    {
     "ename": "ProgrammingError",
     "evalue": "1054 (42S22): Unknown column 'nan' in 'field list'",
     "output_type": "error",
     "traceback": [
      "\u001b[1;31m---------------------------------------------------------------------------\u001b[0m",
      "\u001b[1;31mMySQLInterfaceError\u001b[0m                       Traceback (most recent call last)",
      "File \u001b[1;32mc:\\Users\\LENOVO\\AppData\\Local\\Programs\\Python\\Python310\\lib\\site-packages\\mysql\\connector\\connection_cext.py:608\u001b[0m, in \u001b[0;36mCMySQLConnection.cmd_query\u001b[1;34m(self, query, raw, buffered, raw_as_string)\u001b[0m\n\u001b[0;32m    607\u001b[0m         query \u001b[39m=\u001b[39m query\u001b[39m.\u001b[39mencode(\u001b[39m\"\u001b[39m\u001b[39mutf-8\u001b[39m\u001b[39m\"\u001b[39m)\n\u001b[1;32m--> 608\u001b[0m     \u001b[39mself\u001b[39;49m\u001b[39m.\u001b[39;49m_cmysql\u001b[39m.\u001b[39;49mquery(\n\u001b[0;32m    609\u001b[0m         query,\n\u001b[0;32m    610\u001b[0m         raw\u001b[39m=\u001b[39;49mraw,\n\u001b[0;32m    611\u001b[0m         buffered\u001b[39m=\u001b[39;49mbuffered,\n\u001b[0;32m    612\u001b[0m         raw_as_string\u001b[39m=\u001b[39;49mraw_as_string,\n\u001b[0;32m    613\u001b[0m         query_attrs\u001b[39m=\u001b[39;49m\u001b[39mself\u001b[39;49m\u001b[39m.\u001b[39;49m_query_attrs,\n\u001b[0;32m    614\u001b[0m     )\n\u001b[0;32m    615\u001b[0m \u001b[39mexcept\u001b[39;00m MySQLInterfaceError \u001b[39mas\u001b[39;00m err:\n",
      "\u001b[1;31mMySQLInterfaceError\u001b[0m: Unknown column 'nan' in 'field list'",
      "\nThe above exception was the direct cause of the following exception:\n",
      "\u001b[1;31mProgrammingError\u001b[0m                          Traceback (most recent call last)",
      "\u001b[1;32md:\\data\\p_1\\4_csvs\\conn.ipynb Cell 9\u001b[0m in \u001b[0;36m<module>\u001b[1;34m\u001b[0m\n\u001b[0;32m      <a href='vscode-notebook-cell:/d%3A/data/p_1/4_csvs/conn.ipynb#X10sZmlsZQ%3D%3D?line=0'>1</a>\u001b[0m conec\u001b[39m=\u001b[39mcnx\u001b[39m.\u001b[39mcursor()\n\u001b[0;32m      <a href='vscode-notebook-cell:/d%3A/data/p_1/4_csvs/conn.ipynb#X10sZmlsZQ%3D%3D?line=1'>2</a>\u001b[0m \u001b[39mfor\u001b[39;00m i,row \u001b[39min\u001b[39;00m df\u001b[39m.\u001b[39miterrows():\n\u001b[1;32m----> <a href='vscode-notebook-cell:/d%3A/data/p_1/4_csvs/conn.ipynb#X10sZmlsZQ%3D%3D?line=2'>3</a>\u001b[0m     conec\u001b[39m.\u001b[39;49mexecute(insert_table_data,\u001b[39mlist\u001b[39;49m(row))\n\u001b[0;32m      <a href='vscode-notebook-cell:/d%3A/data/p_1/4_csvs/conn.ipynb#X10sZmlsZQ%3D%3D?line=4'>5</a>\u001b[0m cnx\u001b[39m.\u001b[39mcommit()\n",
      "File \u001b[1;32mc:\\Users\\LENOVO\\AppData\\Local\\Programs\\Python\\Python310\\lib\\site-packages\\mysql\\connector\\cursor_cext.py:330\u001b[0m, in \u001b[0;36mCMySQLCursor.execute\u001b[1;34m(self, operation, params, multi)\u001b[0m\n\u001b[0;32m    325\u001b[0m             \u001b[39mraise\u001b[39;00m ProgrammingError(\n\u001b[0;32m    326\u001b[0m                 \u001b[39m\"\u001b[39m\u001b[39mNot all parameters were used in the SQL statement\u001b[39m\u001b[39m\"\u001b[39m\n\u001b[0;32m    327\u001b[0m             )\n\u001b[0;32m    329\u001b[0m \u001b[39mtry\u001b[39;00m:\n\u001b[1;32m--> 330\u001b[0m     result \u001b[39m=\u001b[39m \u001b[39mself\u001b[39;49m\u001b[39m.\u001b[39;49m_cnx\u001b[39m.\u001b[39;49mcmd_query(\n\u001b[0;32m    331\u001b[0m         stmt,\n\u001b[0;32m    332\u001b[0m         raw\u001b[39m=\u001b[39;49m\u001b[39mself\u001b[39;49m\u001b[39m.\u001b[39;49m_raw,\n\u001b[0;32m    333\u001b[0m         buffered\u001b[39m=\u001b[39;49m\u001b[39mself\u001b[39;49m\u001b[39m.\u001b[39;49m_buffered,\n\u001b[0;32m    334\u001b[0m         raw_as_string\u001b[39m=\u001b[39;49m\u001b[39mself\u001b[39;49m\u001b[39m.\u001b[39;49m_raw_as_string,\n\u001b[0;32m    335\u001b[0m     )\n\u001b[0;32m    336\u001b[0m \u001b[39mexcept\u001b[39;00m MySQLInterfaceError \u001b[39mas\u001b[39;00m err:\n\u001b[0;32m    337\u001b[0m     \u001b[39mraise\u001b[39;00m get_mysql_exception(\n\u001b[0;32m    338\u001b[0m         msg\u001b[39m=\u001b[39merr\u001b[39m.\u001b[39mmsg, errno\u001b[39m=\u001b[39merr\u001b[39m.\u001b[39merrno, sqlstate\u001b[39m=\u001b[39merr\u001b[39m.\u001b[39msqlstate\n\u001b[0;32m    339\u001b[0m     ) \u001b[39mfrom\u001b[39;00m \u001b[39merr\u001b[39;00m\n",
      "File \u001b[1;32mc:\\Users\\LENOVO\\AppData\\Local\\Programs\\Python\\Python310\\lib\\site-packages\\mysql\\connector\\connection_cext.py:616\u001b[0m, in \u001b[0;36mCMySQLConnection.cmd_query\u001b[1;34m(self, query, raw, buffered, raw_as_string)\u001b[0m\n\u001b[0;32m    608\u001b[0m     \u001b[39mself\u001b[39m\u001b[39m.\u001b[39m_cmysql\u001b[39m.\u001b[39mquery(\n\u001b[0;32m    609\u001b[0m         query,\n\u001b[0;32m    610\u001b[0m         raw\u001b[39m=\u001b[39mraw,\n\u001b[1;32m   (...)\u001b[0m\n\u001b[0;32m    613\u001b[0m         query_attrs\u001b[39m=\u001b[39m\u001b[39mself\u001b[39m\u001b[39m.\u001b[39m_query_attrs,\n\u001b[0;32m    614\u001b[0m     )\n\u001b[0;32m    615\u001b[0m \u001b[39mexcept\u001b[39;00m MySQLInterfaceError \u001b[39mas\u001b[39;00m err:\n\u001b[1;32m--> 616\u001b[0m     \u001b[39mraise\u001b[39;00m get_mysql_exception(\n\u001b[0;32m    617\u001b[0m         err\u001b[39m.\u001b[39merrno, msg\u001b[39m=\u001b[39merr\u001b[39m.\u001b[39mmsg, sqlstate\u001b[39m=\u001b[39merr\u001b[39m.\u001b[39msqlstate\n\u001b[0;32m    618\u001b[0m     ) \u001b[39mfrom\u001b[39;00m \u001b[39merr\u001b[39;00m\n\u001b[0;32m    619\u001b[0m \u001b[39mexcept\u001b[39;00m \u001b[39mAttributeError\u001b[39;00m \u001b[39mas\u001b[39;00m err:\n\u001b[0;32m    620\u001b[0m     addr \u001b[39m=\u001b[39m (\n\u001b[0;32m    621\u001b[0m         \u001b[39mself\u001b[39m\u001b[39m.\u001b[39m_unix_socket \u001b[39mif\u001b[39;00m \u001b[39mself\u001b[39m\u001b[39m.\u001b[39m_unix_socket \u001b[39melse\u001b[39;00m \u001b[39mf\u001b[39m\u001b[39m\"\u001b[39m\u001b[39m{\u001b[39;00m\u001b[39mself\u001b[39m\u001b[39m.\u001b[39m_host\u001b[39m}\u001b[39;00m\u001b[39m:\u001b[39m\u001b[39m{\u001b[39;00m\u001b[39mself\u001b[39m\u001b[39m.\u001b[39m_port\u001b[39m}\u001b[39;00m\u001b[39m\"\u001b[39m\n\u001b[0;32m    622\u001b[0m     )\n",
      "\u001b[1;31mProgrammingError\u001b[0m: 1054 (42S22): Unknown column 'nan' in 'field list'"
     ]
    }
   ],
   "source": [
    "conec=cnx.cursor()\n",
    "for i,row in df.iterrows():\n",
    "    conec.execute(insert_table_data,list(row))\n",
    "\n",
    "cnx.commit()\n",
    "    "
   ]
  },
  {
   "cell_type": "code",
   "execution_count": null,
   "metadata": {},
   "outputs": [],
   "source": []
  }
 ],
 "metadata": {
  "kernelspec": {
   "display_name": "Python 3",
   "language": "python",
   "name": "python3"
  },
  "language_info": {
   "codemirror_mode": {
    "name": "ipython",
    "version": 3
   },
   "file_extension": ".py",
   "mimetype": "text/x-python",
   "name": "python",
   "nbconvert_exporter": "python",
   "pygments_lexer": "ipython3",
   "version": "3.10.2"
  },
  "orig_nbformat": 4
 },
 "nbformat": 4,
 "nbformat_minor": 2
}
