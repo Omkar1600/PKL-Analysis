{
 "cells": [
  {
   "cell_type": "code",
   "execution_count": 7,
   "metadata": {},
   "outputs": [],
   "source": [
    "\n",
    "import mysql.connector\n",
    "import pandas as pd\n",
    "from mysql.connector import Error"
   ]
  },
  {
   "cell_type": "code",
   "execution_count": 2,
   "metadata": {},
   "outputs": [],
   "source": [
    "cnx = mysql.connector.connect(user='root', password='pass',\n",
    "                              host='127.0.0.1'\n",
    "                              )\n",
    "cur= cnx.cursor()\n",
    "cur.execute(\"Create Database PRO_KABBADI\")\n",
    "cnx.close()"
   ]
  },
  {
   "cell_type": "code",
   "execution_count": 8,
   "metadata": {},
   "outputs": [
    {
     "name": "stdout",
     "output_type": "stream",
     "text": [
      "MySQL Database connection successful\n"
     ]
    }
   ],
   "source": [
    "def create_db_connection(u_name,password, db_name):\n",
    "    connection = None\n",
    "    try:\n",
    "        connection = mysql.connector.connect(\n",
    "            user=u_name,\n",
    "            passwd=password,\n",
    "            database=db_name\n",
    "        )\n",
    "        print(\"MySQL Database connection successful\")\n",
    "    except Error as err:\n",
    "        print(f\"Error: '{err}'\")\n",
    "\n",
    "    return connection\n",
    "\n",
    "cnx=create_db_connection('root','pass','pro_kabbadi')"
   ]
  },
  {
   "cell_type": "code",
   "execution_count": 9,
   "metadata": {},
   "outputs": [],
   "source": [
    "def execute_query(connection, query):\n",
    "    cursor = connection.cursor()\n",
    "    try:\n",
    "        cursor.execute(query)\n",
    "        connection.commit()\n",
    "        print(\"Query successful\")\n",
    "    except Error as err:\n",
    "        print(f\"Error: '{err}'\")"
   ]
  },
  {
   "cell_type": "code",
   "execution_count": 16,
   "metadata": {},
   "outputs": [],
   "source": [
    "df=pd.read_csv(\"Trailf.csv\")\n"
   ]
  },
  {
   "cell_type": "code",
   "execution_count": 17,
   "metadata": {},
   "outputs": [
    {
     "data": {
      "text/html": [
       "<div>\n",
       "<style scoped>\n",
       "    .dataframe tbody tr th:only-of-type {\n",
       "        vertical-align: middle;\n",
       "    }\n",
       "\n",
       "    .dataframe tbody tr th {\n",
       "        vertical-align: top;\n",
       "    }\n",
       "\n",
       "    .dataframe thead th {\n",
       "        text-align: right;\n",
       "    }\n",
       "</style>\n",
       "<table border=\"1\" class=\"dataframe\">\n",
       "  <thead>\n",
       "    <tr style=\"text-align: right;\">\n",
       "      <th></th>\n",
       "      <th>name</th>\n",
       "      <th>team_name</th>\n",
       "      <th>high_5s</th>\n",
       "      <th>player_team</th>\n",
       "      <th>super_10s</th>\n",
       "      <th>super_raids</th>\n",
       "      <th>super_tackles</th>\n",
       "      <th>total_defending_points</th>\n",
       "      <th>total_raid_points</th>\n",
       "      <th>red_cards</th>\n",
       "      <th>...</th>\n",
       "      <th>location</th>\n",
       "      <th>tackle_bonus_points</th>\n",
       "      <th>role</th>\n",
       "      <th>unsuccess_raids</th>\n",
       "      <th>success_raids</th>\n",
       "      <th>total_tackle_points</th>\n",
       "      <th>yellow_cards</th>\n",
       "      <th>green_cards</th>\n",
       "      <th>points_per_match_raid_tackle</th>\n",
       "      <th>points_defence_offence</th>\n",
       "    </tr>\n",
       "  </thead>\n",
       "  <tbody>\n",
       "    <tr>\n",
       "      <th>0</th>\n",
       "      <td>Takamitsu Kono</td>\n",
       "      <td>Dabang Delhi K.C.</td>\n",
       "      <td>0</td>\n",
       "      <td>0</td>\n",
       "      <td>0</td>\n",
       "      <td>0</td>\n",
       "      <td>0</td>\n",
       "      <td>1</td>\n",
       "      <td>1</td>\n",
       "      <td>0</td>\n",
       "      <td>...</td>\n",
       "      <td>NaN</td>\n",
       "      <td>0</td>\n",
       "      <td>NaN</td>\n",
       "      <td>0</td>\n",
       "      <td>1</td>\n",
       "      <td>1</td>\n",
       "      <td>0</td>\n",
       "      <td>0</td>\n",
       "      <td>2.00</td>\n",
       "      <td>2</td>\n",
       "    </tr>\n",
       "    <tr>\n",
       "      <th>1</th>\n",
       "      <td>Simon Kibura</td>\n",
       "      <td>Puneri Paltan</td>\n",
       "      <td>0</td>\n",
       "      <td>0</td>\n",
       "      <td>0</td>\n",
       "      <td>0</td>\n",
       "      <td>0</td>\n",
       "      <td>2</td>\n",
       "      <td>9</td>\n",
       "      <td>0</td>\n",
       "      <td>...</td>\n",
       "      <td>NaN</td>\n",
       "      <td>0</td>\n",
       "      <td>NaN</td>\n",
       "      <td>6</td>\n",
       "      <td>8</td>\n",
       "      <td>2</td>\n",
       "      <td>0</td>\n",
       "      <td>0</td>\n",
       "      <td>1.22</td>\n",
       "      <td>11</td>\n",
       "    </tr>\n",
       "    <tr>\n",
       "      <th>2</th>\n",
       "      <td>Jang Lee</td>\n",
       "      <td>Patna Pirates</td>\n",
       "      <td>0</td>\n",
       "      <td>0</td>\n",
       "      <td>9</td>\n",
       "      <td>14</td>\n",
       "      <td>4</td>\n",
       "      <td>25</td>\n",
       "      <td>471</td>\n",
       "      <td>0</td>\n",
       "      <td>...</td>\n",
       "      <td>NaN</td>\n",
       "      <td>0</td>\n",
       "      <td>NaN</td>\n",
       "      <td>229</td>\n",
       "      <td>376</td>\n",
       "      <td>25</td>\n",
       "      <td>0</td>\n",
       "      <td>2</td>\n",
       "      <td>4.68</td>\n",
       "      <td>496</td>\n",
       "    </tr>\n",
       "    <tr>\n",
       "      <th>3</th>\n",
       "      <td>Taedeok Eom</td>\n",
       "      <td>Patna Pirates</td>\n",
       "      <td>0</td>\n",
       "      <td>0</td>\n",
       "      <td>0</td>\n",
       "      <td>0</td>\n",
       "      <td>1</td>\n",
       "      <td>8</td>\n",
       "      <td>14</td>\n",
       "      <td>0</td>\n",
       "      <td>...</td>\n",
       "      <td>NaN</td>\n",
       "      <td>0</td>\n",
       "      <td>NaN</td>\n",
       "      <td>12</td>\n",
       "      <td>10</td>\n",
       "      <td>8</td>\n",
       "      <td>0</td>\n",
       "      <td>0</td>\n",
       "      <td>0.63</td>\n",
       "      <td>22</td>\n",
       "    </tr>\n",
       "    <tr>\n",
       "      <th>4</th>\n",
       "      <td>Sanjay Shrestha</td>\n",
       "      <td>Puneri Paltan</td>\n",
       "      <td>0</td>\n",
       "      <td>0</td>\n",
       "      <td>0</td>\n",
       "      <td>0</td>\n",
       "      <td>0</td>\n",
       "      <td>0</td>\n",
       "      <td>0</td>\n",
       "      <td>0</td>\n",
       "      <td>...</td>\n",
       "      <td>NaN</td>\n",
       "      <td>0</td>\n",
       "      <td>NaN</td>\n",
       "      <td>0</td>\n",
       "      <td>0</td>\n",
       "      <td>0</td>\n",
       "      <td>0</td>\n",
       "      <td>0</td>\n",
       "      <td>0.00</td>\n",
       "      <td>0</td>\n",
       "    </tr>\n",
       "  </tbody>\n",
       "</table>\n",
       "<p>5 rows × 38 columns</p>\n",
       "</div>"
      ],
      "text/plain": [
       "              name          team_name  high_5s  player_team  super_10s  \\\n",
       "0   Takamitsu Kono  Dabang Delhi K.C.        0            0          0   \n",
       "1     Simon Kibura      Puneri Paltan        0            0          0   \n",
       "2         Jang Lee      Patna Pirates        0            0          9   \n",
       "3      Taedeok Eom      Patna Pirates        0            0          0   \n",
       "4  Sanjay Shrestha      Puneri Paltan        0            0          0   \n",
       "\n",
       "   super_raids  super_tackles  total_defending_points  total_raid_points  \\\n",
       "0            0              0                       1                  1   \n",
       "1            0              0                       2                  9   \n",
       "2           14              4                      25                471   \n",
       "3            0              1                       8                 14   \n",
       "4            0              0                       0                  0   \n",
       "\n",
       "   red_cards  ...  location  tackle_bonus_points  role  unsuccess_raids  \\\n",
       "0          0  ...       NaN                    0   NaN                0   \n",
       "1          0  ...       NaN                    0   NaN                6   \n",
       "2          0  ...       NaN                    0   NaN              229   \n",
       "3          0  ...       NaN                    0   NaN               12   \n",
       "4          0  ...       NaN                    0   NaN                0   \n",
       "\n",
       "   success_raids  total_tackle_points  yellow_cards  green_cards  \\\n",
       "0              1                    1             0            0   \n",
       "1              8                    2             0            0   \n",
       "2            376                   25             0            2   \n",
       "3             10                    8             0            0   \n",
       "4              0                    0             0            0   \n",
       "\n",
       "   points_per_match_raid_tackle  points_defence_offence  \n",
       "0                          2.00                       2  \n",
       "1                          1.22                      11  \n",
       "2                          4.68                     496  \n",
       "3                          0.63                      22  \n",
       "4                          0.00                       0  \n",
       "\n",
       "[5 rows x 38 columns]"
      ]
     },
     "execution_count": 17,
     "metadata": {},
     "output_type": "execute_result"
    }
   ],
   "source": [
    "df.head()"
   ]
  },
  {
   "cell_type": "code",
   "execution_count": 19,
   "metadata": {},
   "outputs": [
    {
     "data": {
      "text/plain": [
       "(560, 38)"
      ]
     },
     "execution_count": 19,
     "metadata": {},
     "output_type": "execute_result"
    }
   ],
   "source": [
    "df.shape"
   ]
  },
  {
   "cell_type": "code",
   "execution_count": 20,
   "metadata": {},
   "outputs": [],
   "source": [
    "df=df.drop(['raid_map_locations','location','role'],axis=1)"
   ]
  },
  {
   "cell_type": "code",
   "execution_count": 22,
   "metadata": {},
   "outputs": [],
   "source": [
    "df=df.dropna()"
   ]
  },
  {
   "cell_type": "code",
   "execution_count": 24,
   "metadata": {},
   "outputs": [
    {
     "data": {
      "text/plain": [
       "(550, 35)"
      ]
     },
     "execution_count": 24,
     "metadata": {},
     "output_type": "execute_result"
    }
   ],
   "source": [
    "df.shape"
   ]
  },
  {
   "cell_type": "code",
   "execution_count": 25,
   "metadata": {},
   "outputs": [
    {
     "data": {
      "text/plain": [
       "name                            0\n",
       "team_name                       0\n",
       "high_5s                         0\n",
       "player_team                     0\n",
       "super_10s                       0\n",
       "super_raids                     0\n",
       "super_tackles                   0\n",
       "total_defending_points          0\n",
       "total_raid_points               0\n",
       "red_cards                       0\n",
       "raid_bonus_points               0\n",
       "success_tackles                 0\n",
       "defence_touch_points            0\n",
       "defending_bonus_points          0\n",
       "raid_touch_points               0\n",
       "unsuccesful_tackles             0\n",
       "success_raid_percent            0\n",
       "empty_raid                      0\n",
       "tackle_success_rate             0\n",
       "raids                           0\n",
       "match_player                    0\n",
       "tackles                         0\n",
       "points                          0\n",
       "raid_points_per_match           0\n",
       "not_out_percentage              0\n",
       "success_tackles_per_match       0\n",
       "career_best_points              0\n",
       "tackle_bonus_points             0\n",
       "unsuccess_raids                 0\n",
       "success_raids                   0\n",
       "total_tackle_points             0\n",
       "yellow_cards                    0\n",
       "green_cards                     0\n",
       "points_per_match_raid_tackle    0\n",
       "points_defence_offence          0\n",
       "dtype: int64"
      ]
     },
     "execution_count": 25,
     "metadata": {},
     "output_type": "execute_result"
    }
   ],
   "source": [
    "df.isna().sum()"
   ]
  },
  {
   "cell_type": "code",
   "execution_count": 30,
   "metadata": {},
   "outputs": [],
   "source": [
    "table_data='''CREATE TABLE INFO (\n",
    "name VARCHAR(30),\n",
    "team_name VARCHAR(20),\n",
    "high_5s INT,\n",
    "player_team INT,\n",
    "super_10s INT,\n",
    "super_raids INT,\n",
    "super_tackles INT,\n",
    "total_defending_points INT,\n",
    "total_raid_points INT,\n",
    "red_cards INT,\n",
    "raid_bonus_points INT,\n",
    "success_tackles INT,\n",
    "defence_touch_points INT,\n",
    "defending_bonus_points INT,\n",
    "raid_touch_points INT,\n",
    "unsuccesful_tackles INT,\n",
    "success_raid_percent INT,\n",
    "empty_raid INT,\n",
    "tackle_success_rate INT,\n",
    "raids INT,\n",
    "match_player INT,\n",
    "tackles INT,\n",
    "points INT,\n",
    "raid_points_per_match INT,\n",
    "not_out_percentage INT,\n",
    "success_tackles_per_match INT,\n",
    "career_best_points INT,\n",
    "tackle_bonus_points INT,\n",
    "unsuccess_raids INT,\n",
    "success_raids INT,\n",
    "total_tackle_points INT,\n",
    "yellow_cards INT,\n",
    "green_cards INT,\n",
    "points_per_match_raid_tackle INT,\n",
    "points_defence_offence INT\n",
    "); '''"
   ]
  },
  {
   "cell_type": "code",
   "execution_count": 32,
   "metadata": {},
   "outputs": [
    {
     "name": "stdout",
     "output_type": "stream",
     "text": [
      "Query successful\n"
     ]
    }
   ],
   "source": [
    "execute_query(cnx,table_data)"
   ]
  },
  {
   "cell_type": "code",
   "execution_count": 33,
   "metadata": {},
   "outputs": [],
   "source": [
    "insert_table_data=''' INSERT INTO info(name,team_name,high_5s,player_team,super_10s,super_raids,super_tackles,total_defending_points,total_raid_points,red_cards,raid_bonus_points,success_tackles,defence_touch_points,defending_bonus_points,raid_touch_points,unsuccesful_tackles,success_raid_percent,empty_raid,tackle_success_rate,raids,match_player,tackles,points,raid_points_per_match,not_out_percentage,success_tackles_per_match,career_best_points,tackle_bonus_points,unsuccess_raids,success_raids,total_tackle_points,yellow_cards,green_cards,points_per_match_raid_tackle,points_defence_offence)\n",
    "VALUES(%s,%s,%s,%s,%s,%s,%s,%s,%s,%s,%s,%s,%s,%s,%s,%s,%s,%s,%s,%s,%s,%s,%s,%s,%s,%s,%s,%s,%s,%s,%s,%s,%s,%s,%s)\n",
    "'''"
   ]
  },
  {
   "cell_type": "code",
   "execution_count": 34,
   "metadata": {},
   "outputs": [],
   "source": [
    "conec=cnx.cursor()\n",
    "for i,row in df.iterrows():\n",
    "    conec.execute(insert_table_data,list(row))\n",
    "\n",
    "cnx.commit()\n",
    "    "
   ]
  },
  {
   "cell_type": "code",
   "execution_count": 35,
   "metadata": {},
   "outputs": [],
   "source": [
    "cnx.close()"
   ]
  },
  {
   "cell_type": "code",
   "execution_count": null,
   "metadata": {},
   "outputs": [],
   "source": []
  }
 ],
 "metadata": {
  "kernelspec": {
   "display_name": "Python 3",
   "language": "python",
   "name": "python3"
  },
  "language_info": {
   "codemirror_mode": {
    "name": "ipython",
    "version": 3
   },
   "file_extension": ".py",
   "mimetype": "text/x-python",
   "name": "python",
   "nbconvert_exporter": "python",
   "pygments_lexer": "ipython3",
   "version": "3.10.2"
  },
  "orig_nbformat": 4
 },
 "nbformat": 4,
 "nbformat_minor": 2
}
